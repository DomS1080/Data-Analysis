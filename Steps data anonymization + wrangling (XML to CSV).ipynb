{
 "cells": [
  {
   "cell_type": "markdown",
   "id": "3341ebab-1200-46e6-a0f7-6d6d43a870bf",
   "metadata": {},
   "source": [
    "<b>Preparing Apple Health data for analysis/visualization<b/>\n",
    "- Download personal data from app; unzip XML file\n",
    "- Parse to DataFrame using python standard libraries + Pandas\n",
    "- Anonymize Personal Identifiable Information (PII) using regular expression replacements\n",
    "- Explore and wrangle/clean, extracting data related to 'step count'\n",
    "- Save data of interest to csv for external tabular analysis"
   ]
  },
  {
   "cell_type": "code",
   "execution_count": 1,
   "id": "615e72ad-f92f-4ea7-b821-d9cfe786f2c2",
   "metadata": {},
   "outputs": [],
   "source": [
    "import pandas as pd\n",
    "import xml.etree.ElementTree as ET\n",
    "import io"
   ]
  },
  {
   "cell_type": "code",
   "execution_count": 2,
   "id": "392442ad-2d8f-4c11-8623-f9f66301737f",
   "metadata": {},
   "outputs": [
    {
     "name": "stdout",
     "output_type": "stream",
     "text": [
      "(154516, 9)\n"
     ]
    }
   ],
   "source": [
    "#Parse XML content\n",
    "tree = ET.parse('export.xml')\n",
    "root = tree.getroot()\n",
    "\n",
    "#Extract 'Record' log elements\n",
    "records = []\n",
    "for record in root.findall('Record'):\n",
    "    record_data = record.attrib\n",
    "    records.append(record_data)\n",
    "\n",
    "#Create DataFrame\n",
    "df_export = pd.DataFrame(records)\n",
    "print(df_export.shape)"
   ]
  },
  {
   "cell_type": "code",
   "execution_count": 3,
   "id": "63f286f7-1950-4a80-9ef8-91e5d8e2697a",
   "metadata": {},
   "outputs": [
    {
     "name": "stdout",
     "output_type": "stream",
     "text": [
      "sourceName\n",
      "iPhone    154514\n",
      "Health         2\n",
      "Name: count, dtype: int64\n"
     ]
    },
    {
     "data": {
      "text/html": [
       "<div>\n",
       "<style scoped>\n",
       "    .dataframe tbody tr th:only-of-type {\n",
       "        vertical-align: middle;\n",
       "    }\n",
       "\n",
       "    .dataframe tbody tr th {\n",
       "        vertical-align: top;\n",
       "    }\n",
       "\n",
       "    .dataframe thead th {\n",
       "        text-align: right;\n",
       "    }\n",
       "</style>\n",
       "<table border=\"1\" class=\"dataframe\">\n",
       "  <thead>\n",
       "    <tr style=\"text-align: right;\">\n",
       "      <th></th>\n",
       "      <th>type</th>\n",
       "      <th>sourceName</th>\n",
       "      <th>sourceVersion</th>\n",
       "      <th>unit</th>\n",
       "      <th>creationDate</th>\n",
       "      <th>startDate</th>\n",
       "      <th>endDate</th>\n",
       "      <th>value</th>\n",
       "      <th>device</th>\n",
       "    </tr>\n",
       "  </thead>\n",
       "  <tbody>\n",
       "    <tr>\n",
       "      <th>0</th>\n",
       "      <td>HKQuantityTypeIdentifierStepCount</td>\n",
       "      <td>iPhone</td>\n",
       "      <td>15.3.1</td>\n",
       "      <td>count</td>\n",
       "      <td>2022-04-23 16:51:21 -0400</td>\n",
       "      <td>2022-04-23 16:36:00 -0400</td>\n",
       "      <td>2022-04-23 16:45:57 -0400</td>\n",
       "      <td>141</td>\n",
       "      <td>HKDevice: anonymized&gt;, name:iPhone, manufactur...</td>\n",
       "    </tr>\n",
       "    <tr>\n",
       "      <th>1</th>\n",
       "      <td>HKQuantityTypeIdentifierStepCount</td>\n",
       "      <td>iPhone</td>\n",
       "      <td>15.3.1</td>\n",
       "      <td>count</td>\n",
       "      <td>2022-04-23 16:59:28 -0400</td>\n",
       "      <td>2022-04-23 16:46:25 -0400</td>\n",
       "      <td>2022-04-23 16:49:23 -0400</td>\n",
       "      <td>86</td>\n",
       "      <td>HKDevice: anonymized&gt;, name:iPhone, manufactur...</td>\n",
       "    </tr>\n",
       "  </tbody>\n",
       "</table>\n",
       "</div>"
      ],
      "text/plain": [
       "                                type sourceName sourceVersion   unit  \\\n",
       "0  HKQuantityTypeIdentifierStepCount     iPhone        15.3.1  count   \n",
       "1  HKQuantityTypeIdentifierStepCount     iPhone        15.3.1  count   \n",
       "\n",
       "                creationDate                  startDate  \\\n",
       "0  2022-04-23 16:51:21 -0400  2022-04-23 16:36:00 -0400   \n",
       "1  2022-04-23 16:59:28 -0400  2022-04-23 16:46:25 -0400   \n",
       "\n",
       "                     endDate value  \\\n",
       "0  2022-04-23 16:45:57 -0400   141   \n",
       "1  2022-04-23 16:49:23 -0400    86   \n",
       "\n",
       "                                              device  \n",
       "0  HKDevice: anonymized>, name:iPhone, manufactur...  \n",
       "1  HKDevice: anonymized>, name:iPhone, manufactur...  "
      ]
     },
     "execution_count": 3,
     "metadata": {},
     "output_type": "execute_result"
    }
   ],
   "source": [
    "#Pre-display cleaning/wrangling\n",
    " #Anonymize Health Kit Device object identifiers\n",
    "df_export['device'] = df_export['device'].str.replace('<<HKDevice: .*?>, ', 'HKDevice: anonymized>, ', regex=True)\n",
    " #Anonymize actual device name\n",
    "df_export['sourceName'] = df_export['sourceName'].str.replace('.*iPhone.*', 'iPhone', regex=True)\n",
    "\n",
    "print(df_export.sourceName.value_counts())\n",
    "\n",
    " #Remove records from 'Health' source\n",
    "df_export = df_export[df_export['sourceName'] != 'Health']\n",
    "df_export.reset_index(drop=True, inplace=True)\n",
    "\n",
    "df_export.head(2)"
   ]
  },
  {
   "cell_type": "code",
   "execution_count": 4,
   "id": "0264eae4-8df1-4e09-b13f-6c51103e12ed",
   "metadata": {},
   "outputs": [
    {
     "data": {
      "text/html": [
       "<div>\n",
       "<style scoped>\n",
       "    .dataframe tbody tr th:only-of-type {\n",
       "        vertical-align: middle;\n",
       "    }\n",
       "\n",
       "    .dataframe tbody tr th {\n",
       "        vertical-align: top;\n",
       "    }\n",
       "\n",
       "    .dataframe thead th {\n",
       "        text-align: right;\n",
       "    }\n",
       "</style>\n",
       "<table border=\"1\" class=\"dataframe\">\n",
       "  <thead>\n",
       "    <tr style=\"text-align: right;\">\n",
       "      <th></th>\n",
       "      <th>type</th>\n",
       "      <th>sourceName</th>\n",
       "      <th>sourceVersion</th>\n",
       "      <th>unit</th>\n",
       "      <th>creationDate</th>\n",
       "      <th>startDate</th>\n",
       "      <th>endDate</th>\n",
       "      <th>value</th>\n",
       "      <th>device</th>\n",
       "    </tr>\n",
       "  </thead>\n",
       "  <tbody>\n",
       "    <tr>\n",
       "      <th>0</th>\n",
       "      <td>StepCount</td>\n",
       "      <td>iPhone</td>\n",
       "      <td>15.3.1</td>\n",
       "      <td>count</td>\n",
       "      <td>2022-04-23 16:51:21 -0400</td>\n",
       "      <td>2022-04-23 16:36:00 -0400</td>\n",
       "      <td>2022-04-23 16:45:57 -0400</td>\n",
       "      <td>141</td>\n",
       "      <td>HKDevice: anonymized&gt;, name:iPhone, manufactur...</td>\n",
       "    </tr>\n",
       "    <tr>\n",
       "      <th>1</th>\n",
       "      <td>StepCount</td>\n",
       "      <td>iPhone</td>\n",
       "      <td>15.3.1</td>\n",
       "      <td>count</td>\n",
       "      <td>2022-04-23 16:59:28 -0400</td>\n",
       "      <td>2022-04-23 16:46:25 -0400</td>\n",
       "      <td>2022-04-23 16:49:23 -0400</td>\n",
       "      <td>86</td>\n",
       "      <td>HKDevice: anonymized&gt;, name:iPhone, manufactur...</td>\n",
       "    </tr>\n",
       "  </tbody>\n",
       "</table>\n",
       "</div>"
      ],
      "text/plain": [
       "        type sourceName sourceVersion   unit               creationDate  \\\n",
       "0  StepCount     iPhone        15.3.1  count  2022-04-23 16:51:21 -0400   \n",
       "1  StepCount     iPhone        15.3.1  count  2022-04-23 16:59:28 -0400   \n",
       "\n",
       "                   startDate                    endDate value  \\\n",
       "0  2022-04-23 16:36:00 -0400  2022-04-23 16:45:57 -0400   141   \n",
       "1  2022-04-23 16:46:25 -0400  2022-04-23 16:49:23 -0400    86   \n",
       "\n",
       "                                              device  \n",
       "0  HKDevice: anonymized>, name:iPhone, manufactur...  \n",
       "1  HKDevice: anonymized>, name:iPhone, manufactur...  "
      ]
     },
     "execution_count": 4,
     "metadata": {},
     "output_type": "execute_result"
    }
   ],
   "source": [
    "#Cleaning/wrangling continued\n",
    " #Simplify 'type' column\n",
    "df_export['type'] = df_export['type'].str.replace('HKQuantityTypeIdentifier', '')\n",
    "df_export.head(2)"
   ]
  },
  {
   "cell_type": "code",
   "execution_count": 5,
   "id": "bcb87a2f-fe55-4ad9-b8cb-3804b12aa272",
   "metadata": {},
   "outputs": [
    {
     "data": {
      "text/plain": [
       "type\n",
       "BasalEnergyBurned                 33074\n",
       "StepCount                         17134\n",
       "DistanceWalkingRunning            17129\n",
       "WalkingSpeed                      16297\n",
       "WalkingStepLength                 16297\n",
       "HeadphoneAudioExposure            15565\n",
       "ActiveEnergyBurned                14467\n",
       "WalkingDoubleSupportPercentage    14446\n",
       "WalkingAsymmetryPercentage         7647\n",
       "FlightsClimbed                     2405\n",
       "AppleWalkingSteadiness               53\n",
       "Name: count, dtype: int64"
      ]
     },
     "execution_count": 5,
     "metadata": {},
     "output_type": "execute_result"
    }
   ],
   "source": [
    "#Review record categories\n",
    "df_export.type.value_counts()"
   ]
  },
  {
   "cell_type": "code",
   "execution_count": 6,
   "id": "b129423b-fe30-4993-b292-bf306d78af2d",
   "metadata": {},
   "outputs": [
    {
     "name": "stdout",
     "output_type": "stream",
     "text": [
      "(17134, 9)\n"
     ]
    },
    {
     "data": {
      "text/html": [
       "<div>\n",
       "<style scoped>\n",
       "    .dataframe tbody tr th:only-of-type {\n",
       "        vertical-align: middle;\n",
       "    }\n",
       "\n",
       "    .dataframe tbody tr th {\n",
       "        vertical-align: top;\n",
       "    }\n",
       "\n",
       "    .dataframe thead th {\n",
       "        text-align: right;\n",
       "    }\n",
       "</style>\n",
       "<table border=\"1\" class=\"dataframe\">\n",
       "  <thead>\n",
       "    <tr style=\"text-align: right;\">\n",
       "      <th></th>\n",
       "      <th>type</th>\n",
       "      <th>sourceName</th>\n",
       "      <th>sourceVersion</th>\n",
       "      <th>unit</th>\n",
       "      <th>creationDate</th>\n",
       "      <th>startDate</th>\n",
       "      <th>endDate</th>\n",
       "      <th>value</th>\n",
       "      <th>device</th>\n",
       "    </tr>\n",
       "  </thead>\n",
       "  <tbody>\n",
       "    <tr>\n",
       "      <th>0</th>\n",
       "      <td>StepCount</td>\n",
       "      <td>iPhone</td>\n",
       "      <td>15.3.1</td>\n",
       "      <td>count</td>\n",
       "      <td>2022-04-23 16:51:21 -0400</td>\n",
       "      <td>2022-04-23 16:36:00 -0400</td>\n",
       "      <td>2022-04-23 16:45:57 -0400</td>\n",
       "      <td>141</td>\n",
       "      <td>HKDevice: anonymized&gt;, name:iPhone, manufactur...</td>\n",
       "    </tr>\n",
       "    <tr>\n",
       "      <th>1</th>\n",
       "      <td>StepCount</td>\n",
       "      <td>iPhone</td>\n",
       "      <td>15.3.1</td>\n",
       "      <td>count</td>\n",
       "      <td>2022-04-23 16:59:28 -0400</td>\n",
       "      <td>2022-04-23 16:46:25 -0400</td>\n",
       "      <td>2022-04-23 16:49:23 -0400</td>\n",
       "      <td>86</td>\n",
       "      <td>HKDevice: anonymized&gt;, name:iPhone, manufactur...</td>\n",
       "    </tr>\n",
       "  </tbody>\n",
       "</table>\n",
       "</div>"
      ],
      "text/plain": [
       "        type sourceName sourceVersion   unit               creationDate  \\\n",
       "0  StepCount     iPhone        15.3.1  count  2022-04-23 16:51:21 -0400   \n",
       "1  StepCount     iPhone        15.3.1  count  2022-04-23 16:59:28 -0400   \n",
       "\n",
       "                   startDate                    endDate value  \\\n",
       "0  2022-04-23 16:36:00 -0400  2022-04-23 16:45:57 -0400   141   \n",
       "1  2022-04-23 16:46:25 -0400  2022-04-23 16:49:23 -0400    86   \n",
       "\n",
       "                                              device  \n",
       "0  HKDevice: anonymized>, name:iPhone, manufactur...  \n",
       "1  HKDevice: anonymized>, name:iPhone, manufactur...  "
      ]
     },
     "execution_count": 6,
     "metadata": {},
     "output_type": "execute_result"
    }
   ],
   "source": [
    "#New df: steps data only\n",
    "df_steps = df_export[df_export['type']=='StepCount'].copy()\n",
    "print(df_steps.shape)\n",
    "df_steps.head(2)"
   ]
  },
  {
   "cell_type": "code",
   "execution_count": 7,
   "id": "ecdf2bbe-f516-450a-85ed-9520e7f3f70f",
   "metadata": {},
   "outputs": [
    {
     "data": {
      "text/plain": [
       "type             object\n",
       "sourceName       object\n",
       "sourceVersion    object\n",
       "unit             object\n",
       "creationDate     object\n",
       "startDate        object\n",
       "endDate          object\n",
       "value            object\n",
       "device           object\n",
       "dtype: object"
      ]
     },
     "execution_count": 7,
     "metadata": {},
     "output_type": "execute_result"
    }
   ],
   "source": [
    "#Check dtypes\n",
    "df_steps.dtypes"
   ]
  },
  {
   "cell_type": "code",
   "execution_count": 8,
   "id": "64096782-5350-4444-aa73-d7557c1e2752",
   "metadata": {},
   "outputs": [
    {
     "data": {
      "text/plain": [
       "dtype('int64')"
      ]
     },
     "execution_count": 8,
     "metadata": {},
     "output_type": "execute_result"
    }
   ],
   "source": [
    "#Convert step count to int + rename\n",
    "df_steps['stepCount'] = pd.to_numeric(df_steps['value'])\n",
    "df_steps.stepCount.dtypes"
   ]
  },
  {
   "cell_type": "code",
   "execution_count": 9,
   "id": "69647f85-5ae4-48d8-8edd-0b913806a2bf",
   "metadata": {},
   "outputs": [
    {
     "name": "stdout",
     "output_type": "stream",
     "text": [
      "HKDevice: anonymized>, name:iPhone, manufacturer:Apple Inc., model:iPhone, hardware:iPhone14,5, software:15.3.1>\n"
     ]
    }
   ],
   "source": [
    "#Inspect full 'device' column value for use\n",
    "print(df_steps.device.values[1])"
   ]
  },
  {
   "cell_type": "code",
   "execution_count": 10,
   "id": "1edf3c14-34fb-44ca-b137-58631b54c889",
   "metadata": {},
   "outputs": [
    {
     "data": {
      "text/html": [
       "<div>\n",
       "<style scoped>\n",
       "    .dataframe tbody tr th:only-of-type {\n",
       "        vertical-align: middle;\n",
       "    }\n",
       "\n",
       "    .dataframe tbody tr th {\n",
       "        vertical-align: top;\n",
       "    }\n",
       "\n",
       "    .dataframe thead th {\n",
       "        text-align: right;\n",
       "    }\n",
       "</style>\n",
       "<table border=\"1\" class=\"dataframe\">\n",
       "  <thead>\n",
       "    <tr style=\"text-align: right;\">\n",
       "      <th></th>\n",
       "      <th>type</th>\n",
       "      <th>startDate</th>\n",
       "      <th>endDate</th>\n",
       "      <th>stepCount</th>\n",
       "    </tr>\n",
       "  </thead>\n",
       "  <tbody>\n",
       "    <tr>\n",
       "      <th>0</th>\n",
       "      <td>StepCount</td>\n",
       "      <td>2022-04-23 16:36:00 -0400</td>\n",
       "      <td>2022-04-23 16:45:57 -0400</td>\n",
       "      <td>141</td>\n",
       "    </tr>\n",
       "    <tr>\n",
       "      <th>1</th>\n",
       "      <td>StepCount</td>\n",
       "      <td>2022-04-23 16:46:25 -0400</td>\n",
       "      <td>2022-04-23 16:49:23 -0400</td>\n",
       "      <td>86</td>\n",
       "    </tr>\n",
       "  </tbody>\n",
       "</table>\n",
       "</div>"
      ],
      "text/plain": [
       "        type                  startDate                    endDate  stepCount\n",
       "0  StepCount  2022-04-23 16:36:00 -0400  2022-04-23 16:45:57 -0400        141\n",
       "1  StepCount  2022-04-23 16:46:25 -0400  2022-04-23 16:49:23 -0400         86"
      ]
     },
     "execution_count": 10,
     "metadata": {},
     "output_type": "execute_result"
    }
   ],
   "source": [
    "#Drop unused columns\n",
    "df_steps.drop(df_steps[['sourceName','sourceVersion','unit','creationDate','device','value']], axis=1, inplace=True)\n",
    "df_steps.head(2)"
   ]
  },
  {
   "cell_type": "code",
   "execution_count": 11,
   "id": "0b540127-c5b9-4e7e-9f30-bcba3540aadb",
   "metadata": {},
   "outputs": [
    {
     "name": "stdout",
     "output_type": "stream",
     "text": [
      "2022-04-23 16:36:00 -0400\n",
      "2024-06-07 19:59:47 -0400\n"
     ]
    }
   ],
   "source": [
    "#Output startDate range; review datetime formatting\n",
    " #ISO 8601 format\n",
    "print(df_steps.startDate.min())\n",
    "print(df_steps.startDate.max())"
   ]
  },
  {
   "cell_type": "code",
   "execution_count": 12,
   "id": "c7ca593b-39f4-4ca0-b604-96d611bb3fee",
   "metadata": {},
   "outputs": [
    {
     "data": {
      "text/plain": [
       "'2022-04-23 16:36:00 -0400'"
      ]
     },
     "execution_count": 12,
     "metadata": {},
     "output_type": "execute_result"
    }
   ],
   "source": [
    " #Date column(s) currently string type:\n",
    "df_steps['startDate'][0]"
   ]
  },
  {
   "cell_type": "code",
   "execution_count": 13,
   "id": "e3ea03a9-34fe-4469-9b11-594ad8cfcf51",
   "metadata": {},
   "outputs": [
    {
     "name": "stdout",
     "output_type": "stream",
     "text": [
      "2022-04-23 16:36:00-04:00\n"
     ]
    },
    {
     "data": {
      "text/plain": [
       "Timestamp('2022-04-23 16:36:00-0400', tz='UTC-04:00')"
      ]
     },
     "execution_count": 13,
     "metadata": {},
     "output_type": "execute_result"
    }
   ],
   "source": [
    "#New df: convert date columns to datetime, split values into new columns\n",
    "\n",
    "df_steps_dt = df_steps.copy()\n",
    "\n",
    " #In place\n",
    "#df_steps_dt['startDate'] = pd.to_datetime(df_steps_dt['startDate'])\n",
    "#df_steps_dt['startDate'] = pd.to_datetime(df_steps_dt['endDate'])\n",
    " #New variables\n",
    "df_steps_dt['startDatetime'] = pd.to_datetime(df_steps_dt['startDate'])\n",
    "df_steps_dt['endDatetime'] = pd.to_datetime(df_steps_dt['endDate'])\n",
    "\n",
    "#Output value\n",
    "print(df_steps_dt['startDatetime'][0])\n",
    " #Verify object type\n",
    "df_steps_dt['startDatetime'][0]"
   ]
  },
  {
   "cell_type": "code",
   "execution_count": 14,
   "id": "c65b3624-ef60-4913-aaf9-0c1b6c4706e6",
   "metadata": {},
   "outputs": [
    {
     "data": {
      "text/html": [
       "<div>\n",
       "<style scoped>\n",
       "    .dataframe tbody tr th:only-of-type {\n",
       "        vertical-align: middle;\n",
       "    }\n",
       "\n",
       "    .dataframe tbody tr th {\n",
       "        vertical-align: top;\n",
       "    }\n",
       "\n",
       "    .dataframe thead th {\n",
       "        text-align: right;\n",
       "    }\n",
       "</style>\n",
       "<table border=\"1\" class=\"dataframe\">\n",
       "  <thead>\n",
       "    <tr style=\"text-align: right;\">\n",
       "      <th></th>\n",
       "      <th>type</th>\n",
       "      <th>startDate</th>\n",
       "      <th>endDate</th>\n",
       "      <th>stepCount</th>\n",
       "      <th>startDatetime</th>\n",
       "      <th>endDatetime</th>\n",
       "    </tr>\n",
       "  </thead>\n",
       "  <tbody>\n",
       "    <tr>\n",
       "      <th>0</th>\n",
       "      <td>StepCount</td>\n",
       "      <td>2022-04-23 16:36:00 -0400</td>\n",
       "      <td>2022-04-23 16:45:57 -0400</td>\n",
       "      <td>141</td>\n",
       "      <td>2022-04-23 16:36:00-04:00</td>\n",
       "      <td>2022-04-23 16:45:57-04:00</td>\n",
       "    </tr>\n",
       "    <tr>\n",
       "      <th>1</th>\n",
       "      <td>StepCount</td>\n",
       "      <td>2022-04-23 16:46:25 -0400</td>\n",
       "      <td>2022-04-23 16:49:23 -0400</td>\n",
       "      <td>86</td>\n",
       "      <td>2022-04-23 16:46:25-04:00</td>\n",
       "      <td>2022-04-23 16:49:23-04:00</td>\n",
       "    </tr>\n",
       "  </tbody>\n",
       "</table>\n",
       "</div>"
      ],
      "text/plain": [
       "        type                  startDate                    endDate  stepCount  \\\n",
       "0  StepCount  2022-04-23 16:36:00 -0400  2022-04-23 16:45:57 -0400        141   \n",
       "1  StepCount  2022-04-23 16:46:25 -0400  2022-04-23 16:49:23 -0400         86   \n",
       "\n",
       "              startDatetime               endDatetime  \n",
       "0 2022-04-23 16:36:00-04:00 2022-04-23 16:45:57-04:00  \n",
       "1 2022-04-23 16:46:25-04:00 2022-04-23 16:49:23-04:00  "
      ]
     },
     "execution_count": 14,
     "metadata": {},
     "output_type": "execute_result"
    }
   ],
   "source": [
    "#Preview data\n",
    "df_steps_dt.head(2)"
   ]
  },
  {
   "cell_type": "code",
   "execution_count": 15,
   "id": "b7a56af8-5805-4099-9078-7100ad8ab902",
   "metadata": {},
   "outputs": [
    {
     "data": {
      "text/html": [
       "<div>\n",
       "<style scoped>\n",
       "    .dataframe tbody tr th:only-of-type {\n",
       "        vertical-align: middle;\n",
       "    }\n",
       "\n",
       "    .dataframe tbody tr th {\n",
       "        vertical-align: top;\n",
       "    }\n",
       "\n",
       "    .dataframe thead th {\n",
       "        text-align: right;\n",
       "    }\n",
       "</style>\n",
       "<table border=\"1\" class=\"dataframe\">\n",
       "  <thead>\n",
       "    <tr style=\"text-align: right;\">\n",
       "      <th></th>\n",
       "      <th>type</th>\n",
       "      <th>startDatetime</th>\n",
       "      <th>startDay</th>\n",
       "      <th>startTime</th>\n",
       "      <th>endDatetime</th>\n",
       "      <th>endDay</th>\n",
       "      <th>endTime</th>\n",
       "      <th>stepCount</th>\n",
       "    </tr>\n",
       "  </thead>\n",
       "  <tbody>\n",
       "    <tr>\n",
       "      <th>0</th>\n",
       "      <td>StepCount</td>\n",
       "      <td>2022-04-23 16:36:00-04:00</td>\n",
       "      <td>2022-04-23</td>\n",
       "      <td>16:36:00</td>\n",
       "      <td>2022-04-23 16:45:57-04:00</td>\n",
       "      <td>2022-04-23</td>\n",
       "      <td>16:45:57</td>\n",
       "      <td>141</td>\n",
       "    </tr>\n",
       "    <tr>\n",
       "      <th>1</th>\n",
       "      <td>StepCount</td>\n",
       "      <td>2022-04-23 16:46:25-04:00</td>\n",
       "      <td>2022-04-23</td>\n",
       "      <td>16:46:25</td>\n",
       "      <td>2022-04-23 16:49:23-04:00</td>\n",
       "      <td>2022-04-23</td>\n",
       "      <td>16:49:23</td>\n",
       "      <td>86</td>\n",
       "    </tr>\n",
       "  </tbody>\n",
       "</table>\n",
       "</div>"
      ],
      "text/plain": [
       "        type             startDatetime    startDay startTime  \\\n",
       "0  StepCount 2022-04-23 16:36:00-04:00  2022-04-23  16:36:00   \n",
       "1  StepCount 2022-04-23 16:46:25-04:00  2022-04-23  16:46:25   \n",
       "\n",
       "                endDatetime      endDay   endTime  stepCount  \n",
       "0 2022-04-23 16:45:57-04:00  2022-04-23  16:45:57        141  \n",
       "1 2022-04-23 16:49:23-04:00  2022-04-23  16:49:23         86  "
      ]
     },
     "execution_count": 15,
     "metadata": {},
     "output_type": "execute_result"
    }
   ],
   "source": [
    "#Create columns at 'day' and 'time' granularities\n",
    "df_steps_dt['startDay'], df_steps_dt['startTime'] = df_steps_dt['startDatetime'].dt.date,\\\n",
    "                                                    df_steps_dt['startDatetime'].dt.time\n",
    "\n",
    "df_steps_dt['endDay'], df_steps_dt['endTime'] = df_steps_dt['endDatetime'].dt.date,\\\n",
    "                                                df_steps_dt['endDatetime'].dt.time\n",
    "\n",
    " #Drop + reorder columns\n",
    "df_steps_dt = df_steps_dt.reindex(columns=['type','startDatetime','startDay','startTime','endDatetime','endDay','endTime','stepCount'])\n",
    "\n",
    "df_steps_dt.head(2)"
   ]
  },
  {
   "cell_type": "code",
   "execution_count": 16,
   "id": "9a437607-9e69-46ae-8d62-1be28779660d",
   "metadata": {},
   "outputs": [
    {
     "data": {
      "text/plain": [
       "type             0\n",
       "startDatetime    0\n",
       "startDay         0\n",
       "startTime        0\n",
       "endDatetime      0\n",
       "endDay           0\n",
       "endTime          0\n",
       "stepCount        0\n",
       "dtype: int64"
      ]
     },
     "execution_count": 16,
     "metadata": {},
     "output_type": "execute_result"
    }
   ],
   "source": [
    "#Data quality check\n",
    " #Missing values: None\n",
    "df_steps_dt.isna().sum()"
   ]
  },
  {
   "cell_type": "code",
   "execution_count": 17,
   "id": "bcdc2c9d-f180-4e9a-b3ab-6584378c88b8",
   "metadata": {},
   "outputs": [],
   "source": [
    "#Save as csv\n",
    "df_steps_dt.to_csv('steps_data.csv', index=True)"
   ]
  }
 ],
 "metadata": {
  "kernelspec": {
   "display_name": "Python 3 (ipykernel)",
   "language": "python",
   "name": "python3"
  },
  "language_info": {
   "codemirror_mode": {
    "name": "ipython",
    "version": 3
   },
   "file_extension": ".py",
   "mimetype": "text/x-python",
   "name": "python",
   "nbconvert_exporter": "python",
   "pygments_lexer": "ipython3",
   "version": "3.11.0"
  }
 },
 "nbformat": 4,
 "nbformat_minor": 5
}
