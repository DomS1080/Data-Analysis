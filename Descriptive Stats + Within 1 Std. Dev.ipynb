{
 "cells": [
  {
   "cell_type": "code",
   "execution_count": 12,
   "id": "75943c95-9ba4-473d-903a-3eb824bab4cc",
   "metadata": {},
   "outputs": [
    {
     "name": "stdout",
     "output_type": "stream",
     "text": [
      "Number of observations: 10\n",
      "Mean of values: 190.36\n",
      "Variance of values: 746.1864\n",
      "Standard Deviation of values: 27.316412648808775\n",
      "# values within (+/-)1 Std. Dev.: 7\n"
     ]
    }
   ],
   "source": [
    "#Calculates the (population) mean, variance, and standard deviation for the given numbers;\n",
    "#Outputs these values, as well as the \"# of observations\" and \"# of observations within +/- 1 standard deviation\"\n",
    "\n",
    "from math import sqrt\n",
    "players = [160, 182, 144.9, 185, 190, 195.3, 192.5, 253, 210.9, 190]\n",
    "n = len(players)\n",
    "residuals = []\n",
    "mean = sum(players)/n\n",
    "for value in players:\n",
    "    residuals.append((value-mean)**2)\n",
    "variance = sum(residuals)/n\n",
    "stDev = sqrt(variance)\n",
    "print(str('Number of observations: '+str(n)))\n",
    "print(str('Mean of values: ')+str(mean)+str('\\nVariance of values: ')+str(variance)+str('\\nStandard Deviation of values: ')+str(stDev))\n",
    "withinOneDev = []\n",
    "for player in players:\n",
    "    if (mean-stDev) < player < (mean+stDev):\n",
    "        withinOneDev.append(player)\n",
    "print(str('# values within (+/-)1 Std. Dev.: ')+str(len(withinOneDev)))"
   ]
  }
 ],
 "metadata": {
  "kernelspec": {
   "display_name": "Python 3",
   "language": "python",
   "name": "python3"
  },
  "language_info": {
   "codemirror_mode": {
    "name": "ipython",
    "version": 3
   },
   "file_extension": ".py",
   "mimetype": "text/x-python",
   "name": "python",
   "nbconvert_exporter": "python",
   "pygments_lexer": "ipython3",
   "version": "3.8.8"
  }
 },
 "nbformat": 4,
 "nbformat_minor": 5
}
