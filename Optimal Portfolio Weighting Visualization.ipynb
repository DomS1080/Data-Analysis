{
 "cells": [
  {
   "cell_type": "code",
   "execution_count": 1,
   "id": "04aba097-0268-4444-ba0a-10c8700b368b",
   "metadata": {},
   "outputs": [
    {
     "name": "stdout",
     "output_type": "stream",
     "text": [
      "[*********************100%***********************]  4 of 4 completed\n"
     ]
    },
    {
     "data": {
      "image/png": "[encoded data removed]",
      "text/plain": [
       "<Figure size 432x288 with 1 Axes>"
      ]
     },
     "metadata": {
      "needs_background": "light"
     },
     "output_type": "display_data"
    }
   ],
   "source": [
    "import yfinance as yf\n",
    "import numpy as np\n",
    "import pandas as pd\n",
    "import matplotlib.pyplot as plt\n",
    "\n",
    "stocks = ['AAPL', 'AMZN', 'MSFT', 'TSLA']\n",
    "\n",
    "data = yf.download(stocks, start='2018-01-01')\n",
    "\n",
    "#daily returns\n",
    "data = data['Close']\n",
    "x = data.pct_change()\n",
    "\n",
    "p_weights = []\n",
    "p_returns = []\n",
    "p_risk = []\n",
    "p_sharpe = []\n",
    "\n",
    "count = 500\n",
    "for k in range(0, count):\n",
    "    wts = np.random.uniform(size = len(x.columns))\n",
    "    wts = wts/np.sum(wts)\n",
    "    p_weights.append(wts)\n",
    "\n",
    "    #returns\n",
    "    mean_ret = (x.mean() * wts).sum()*252\n",
    "    p_returns.append(mean_ret)\n",
    "\n",
    "    #volatility\n",
    "    ret = (x * wts).sum(axis = 1)\n",
    "    annual_std = np.std(ret) * np.sqrt(252)\n",
    "    p_risk.append(annual_std)\n",
    "    \n",
    "    #Sharpe ratio\n",
    "    sharpe = (np.mean(ret) / np.std(ret))*np.sqrt(252)\n",
    "    p_sharpe.append(sharpe)\n",
    "\n",
    "\n",
    "max_ind = np.argmax(p_sharpe)\n",
    "\n",
    "s = pd.Series(p_weights[max_ind], index=x.columns)\n",
    "s.plot(kind='bar')\n",
    "\n",
    "plt.savefig('plot.png')"
   ]
  }
 ],
 "metadata": {
  "kernelspec": {
   "display_name": "Python 3",
   "language": "python",
   "name": "python3"
  },
  "language_info": {
   "codemirror_mode": {
    "name": "ipython",
    "version": 3
   },
   "file_extension": ".py",
   "mimetype": "text/x-python",
   "name": "python",
   "nbconvert_exporter": "python",
   "pygments_lexer": "ipython3",
   "version": "3.8.8"
  }
 },
 "nbformat": 4,
 "nbformat_minor": 5
}
