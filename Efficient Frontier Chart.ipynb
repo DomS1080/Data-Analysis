{
 "cells": [
  {
   "cell_type": "code",
   "execution_count": null,
   "id": "35e8954a-8a87-49a6-9c52-0a21e7014a4a",
   "metadata": {},
   "outputs": [],
   "source": [
    "import yfinance as yf\n",
    "import numpy as np\n",
    "import pandas as pd\n",
    "import matplotlib.pyplot as plt\n",
    "\n",
    "stocks = ['AAPL', 'AMZN', 'MSFT', 'TSLA']\n",
    "\n",
    "data = yf.download(stocks, start='2018-01-01')\n",
    "\n",
    "#daily returns\n",
    "data = data['Close']\n",
    "x = data.pct_change()\n",
    "\n",
    "p_weights = []\n",
    "p_returns = []\n",
    "p_risk = []\n",
    "p_sharpe = []\n",
    "\n",
    "count = 500\n",
    "for k in range(0, count):\n",
    "    wts = np.random.uniform(size = len(x.columns))\n",
    "    wts = wts/np.sum(wts)\n",
    "    p_weights.append(wts)\n",
    "\n",
    "    #returns\n",
    "    mean_ret = (x.mean() * wts).sum()*252\n",
    "    p_returns.append(mean_ret)\n",
    "\n",
    "    #volatility\n",
    "    ret = (x * wts).sum(axis = 1)\n",
    "    annual_std = np.std(ret) * np.sqrt(252)\n",
    "    p_risk.append(annual_std)\n",
    "    \n",
    "    #Sharpe ratio\n",
    "    sharpe = (np.mean(ret) / np.std(ret))*np.sqrt(252)\n",
    "    p_sharpe.append(sharpe)\n",
    "\n",
    "\n",
    "max_ind = np.argmax(p_sharpe)\n",
    "\n",
    "plt.scatter(p_risk, p_returns, c=p_sharpe, cmap='plasma')\n",
    "plt.colorbar(label='Sharpe Ratio')\n",
    "\n",
    "plt.scatter(p_risk[max_ind], p_returns[max_ind], color='r', marker='*', s=500)\n",
    "plt.show()\n",
    "\n",
    "plt.savefig('plot.png')"
   ]
  }
 ],
 "metadata": {
  "kernelspec": {
   "display_name": "Python 3",
   "language": "python",
   "name": "python3"
  },
  "language_info": {
   "codemirror_mode": {
    "name": "ipython",
    "version": 3
   },
   "file_extension": ".py",
   "mimetype": "text/x-python",
   "name": "python",
   "nbconvert_exporter": "python",
   "pygments_lexer": "ipython3",
   "version": "3.8.8"
  }
 },
 "nbformat": 4,
 "nbformat_minor": 5
}
